{
 "cells": [
  {
   "cell_type": "markdown",
   "metadata": {},
   "source": [
    "# MD simulations exercise"
   ]
  },
  {
   "cell_type": "markdown",
   "metadata": {},
   "source": [
    "# Aims \n",
    "\n",
    "The aim for this exercise is to learn how to look at MD simulations, and how to quantitate some of the dynamic informations observed.\n",
    "\n",
    "Our model protein will be insulin, primarily due to its small size and multiple conformational states that are reachable by short simulations. \n",
    "\n",
    "We will be investigating the dynamics of insulin hormone via \n",
    "\n",
    " 1. visualising the MD simulations (in PyMoL)\n",
    "\n",
    " 2. analysing the dynamic properties of insulin in MD simulations (in Python)\n",
    "\n",
    "## Preparation\n",
    "\n",
    "- read this notebook before the exercise\n",
    "\n",
    "- if you are feeling particularly enthusiastic, you can also try running the notebook and answering the questions.\n",
    "\n",
    "## Practical details\n",
    "\n",
    "All the material is available on the [AU-MBG Github page](https://github.com/au-mbg/protein_science/). You should first familiarise yourself with the content of the repository (you might find README.md helpful for that purpose). \n",
    "\n",
    "Then, download the repository by:\n",
    "\n",
    "1. Opening a Terminal window (Ctrl + Alt + T)\n",
    "\n",
    "2. ```git clone https://github.com/au-mbg/protein_science.git ~/Desktop/```\n",
    "\n",
    "The folder called ```protein_science``` should now be located on your Desktop.\n",
    "\n",
    "3. ```cd ~/Desktop/protein_science```\n",
    "\n",
    "4. ```jupyter-notebook MD_Protein_Science.ipynb```\n"
   ]
  },
  {
   "cell_type": "markdown",
   "metadata": {
    "id": "B8QkdGwCMhFA"
   },
   "source": [
    "# 1) Visualisation\n",
    "\n",
    "## Background\n",
    "\n",
    "Insulin is a peptide hormone that regulates metabolism by promoting the absorption of glucose from the blood into the cells. Insulin binds to the extracellular portion of the insulin receptor, which then starts multiple signalling cascades that regulate various aspects of the cellular metabolism and promote glucose uptake. \n",
    "\n",
    "## Visualising the insulin structure\n",
    "\n",
    "Insulin is a small protein ([Uniprot entry](https://www.uniprot.org/uniprotkb/P01308/entry)) consisting of 51 residues divided into two chains (chain A and B). The chains are interconnected by two disulfide bonds, and chain A has an additional intrachain disulfide bond. \n",
    "\n",
    "> Q: Visualise the structure of insulin (INS1.pdb) in Pymol. Is insulin a homo- or heterodimer?\n",
    "\n",
    "```load INS1.pdb```\n",
    "\n",
    "> Q: What residues form disulfide bonds?\n",
    "\n",
    "The secondary structure of insulin is a combination of $\\alpha$-helices and random coils, with a small proportion of $\\beta$-sheets.\n",
    "\n",
    "## Insulin conformation(s)\n",
    "\n",
    "While insulin is relatively rigid in structure, is still visits several different conformations, and the movements are mainly related to the position of the unstructured random coil regions.    \n",
    "\n",
    "Fun fact: The 'active' conformation of insulin is called the **T-state**, and it is characterized by a random coil of the N-terminus of chain B. This form is present as a monomer in solution and binds to the insulin receptor. However, insulin can also form hexameric complexes, in which case insulin is observed in an **R-state**, characterized by an $\\alpha$-helix of the said terminus. \n",
    "\n",
    "> Open the second insulin structure (INS2.pdb). Do the two structures correspond to the T-state or the R-state? \n",
    "\n",
    "While the two conformations are similar, they differ in the relative placement of the unstructured termini. Both conformations are taken from the insulin receptor complex with insulin bound to two different binding sites (PDB code: 6PXV), where INS1 is interacting with Site 1, and INS2 with Site 2.\n",
    "\n",
    "> Align the two structures using only C$\\alpha$ atoms on chain A.\n",
    "\n",
    "Hint: the *name* for C$\\alpha$ atoms is *CA*.\n",
    "\n",
    "> Note the qualitative differences between the two structures. (Hint: this will come in handy in the second part of the exercise)"
   ]
  },
  {
   "cell_type": "markdown",
   "metadata": {
    "id": "B8QkdGwCMhFA"
   },
   "source": [
    "## Visualising the MD trajectories \n",
    "\n",
    "Visualising MD simulations always requires **two** components: \n",
    "\n",
    "1) **a topology file**: often, a coordinate file with a ```.pdb``` extension.\n",
    "\n",
    "2) **a trajectory file**: a large file (in a binary format) that contains the information about the position of each [atom] of each simulation [frame]. In our case, it can be recognised by the ```.xtc``` extension. The trajectory file does not contain any information about protein topology, atom types, residue types and numbering, or chains -- trajectories are therefore always loaded ONTO the topology (structure) file.\n",
    "\n",
    "For this part of the exercise, we will be viewing the systems with solvent (```Insulin_w_solvent```)\n",
    "\n",
    "> First, we will observe the whole simulation system. Load ```INS1_solvent.pdb``` into PyMOL. What are the components of the system?\n",
    "\n",
    "> Marvel at the shape of the simulation box.\n",
    "\n",
    "Although the term \"simulation box\" invokes an image of a square or a rectangle, the simulation boxes are in practice often shaped as rhombic dodecahedrons. It is a literal 'corner-cutting' measure, as this box shape is more economic and allows us to simulate fewer solvent molecules.\n",
    "\n",
    "> Load the trajectory ```(.xtc)``` file with the same name onto the structure file.\n",
    "\n",
    "PyMOL understands file extensions (recognises ```.xtc``` as a trajectory file), and it loads the trajectory onto the structure file with the same name (that is, INS1). If the files are not named the same, the grouping can be made explicitly by: \n",
    "\n",
    "```load_traj traj.xtc, INS1```\n",
    "\n",
    "> Play the video using the buttons in the lower right corner.\n",
    "\n",
    "It might seem like insulin is anchored in the centre of the simulation box, but this is not the case. During the simulation, protein can freely diffuse around the simulation box (remember that beyond the boundaries, there are infinite periodic images of the same simulation box). In the postprocessing step, the periodic box is shifted so it always centers on the protein, which is what you are observing here. \n",
    "\n",
    "> How many frames are there in the simulation?\n",
    "\n",
    "> The time step between each frame is 1 ns. How long is the simulation in total? \n",
    "\n",
    "> Remove the solvent to observe insulin.\n",
    "\n",
    "Water: ```resn TIP3```\n",
    "\n",
    "Na: ```name SOD```\n",
    "\n",
    "Cl: ```name CLA```\n",
    "\n",
    "```select water_salt, resn TIP3 or name SOD or name CLA```\n",
    "\n",
    "> Fit the trajectory so it does not rotate or translate. The fit is performed only on the C$\\alpha$ atoms. Play the simulation again. How does it look now?\n",
    "\n",
    "```intra_fit INS1_solvent & name CA```\n",
    "\n",
    "> Repeat the same procedure for INS2.\n",
    "\n",
    "> Note down some observations about the simulations. How are they similar and how do they differ? What parts of insulin are moving the most?"
   ]
  },
  {
   "cell_type": "markdown",
   "metadata": {
    "id": "ImMd9CRrLbvK"
   },
   "source": [
    "# 2) Analysis\n",
    "\n",
    "By this point, you have developed an intuition about MD in general and our insulin simulations in particular. \n",
    "\n",
    "While a picture speaks a thousand words, and a video speaks at least (1000 words) x *N*(frames), the visual observations are often meaningless without quantification. We will, therefore, proceed with some data analysis on our simulation trajectories.  \n"
   ]
  },
  {
   "cell_type": "markdown",
   "metadata": {},
   "source": [
    "## Aims\n",
    "\n",
    "In the next part, we will cover some basic analyses you can perform on your simulations:\n",
    "\n",
    "- root-mean-square-deviation (RMSD)\n",
    "- root-mean-square-fluctuation (RMSF)\n",
    "- measure of distances of your choice\n",
    "- (if the time allows) secondary structure quantification\n",
    "\n",
    "In the process, we will learn how to:\n",
    "\n",
    "1) load and use Python packages\n",
    "2) load the trajectories into the Python environment\n",
    "3) Plot the variables\n",
    "4) Make atom selections\n",
    "\n",
    "Ultimately, we will address:\n",
    "\n",
    "a) the problem of (over)abundance of data, and how to get around it\n",
    "\n",
    "b) how your choices of variables are dependent on the research question you are trying to answer\n",
    "\n",
    "c) (if time allows) the 'solutions' to the problem of multidimensionality"
   ]
  },
  {
   "cell_type": "markdown",
   "metadata": {
    "id": "lEtXmwQtCxn9"
   },
   "source": [
    "### Loading packages\n",
    "\n",
    "The core Python functionalities are versatile, but limited in terms of specialised functions or data structures that we need if we want to (quickly) analyse our data.\n",
    "\n",
    "We can therefore use special **libraries** that contain **packages** and **modules** of Python code. The libraries are loaded with:\n",
    "\n",
    " ```import [library_name] as [nickname]```\n",
    "\n",
    "The individual packages within the library can be loaded with:\n",
    "\n",
    "```import [library_name].[package_name] as [nickname]```\n",
    "\n",
    "The modules within an individual package within a library are loaded with:\n",
    "\n",
    "```from [library_name].[package_name] import [module_name(s)]```\n",
    "\n",
    "### Specific imports\n",
    "\n",
    "1. ```mdtraj```: a package for loading and analysing MD simulations data. Documentation available [here](https://mdtraj.org/1.9.4/index.html).\n",
    "\n",
    "2. ```numpy```: a very frequently used package that deals with datasets (in a form of multidimensional arrays).\n",
    "\n",
    "3. ```matplotlib```: general data visualisation\n"
   ]
  },
  {
   "cell_type": "code",
   "execution_count": null,
   "metadata": {
    "id": "zUx4A59GCNdK"
   },
   "outputs": [],
   "source": [
    "# Import libraries\n",
    "import mdtraj as md\n",
    "import numpy as np\n",
    "\n",
    "# Import packages\n",
    "import matplotlib.pyplot as plt\n",
    "\n",
    "# Import modules\n",
    "from matplotlib.colors import ListedColormap, BoundaryNorm"
   ]
  },
  {
   "cell_type": "markdown",
   "metadata": {
    "id": "grkqpxCvJ-ke"
   },
   "source": [
    "# Data load\n",
    "\n",
    "In the same way that we had to combine a topology file and a trajectory file to view the simulations, we have to do the same to load them into the Python environment. \n",
    "\n",
    "Mdtraj has several load functions that can be used to load the data into the Python environment.\n",
    "\n",
    "```md.load_pdb```\n",
    "  - a function that loads the .pdb file\n",
    "  - ```md``` is the nickname for the mdtraj library. We need to specify that the function ```load_pdb``` is to be sourced out of this library.\n",
    "  - required parameter: ```filename```, pointing to the PDB file\n",
    "\n",
    "```md.load```\n",
    "- a function that loads the MD trajectory (.xtc file format) and requires a topology file.\n",
    "- required parameters: a trajectory file + a topology file\n"
   ]
  },
  {
   "cell_type": "code",
   "execution_count": null,
   "metadata": {
    "colab": {
     "base_uri": "https://localhost:8080/"
    },
    "id": "SbFG31N8C17w",
    "outputId": "761cd14c-ac1b-4c9b-a9a0-cebe3d03c534"
   },
   "outputs": [],
   "source": [
    "# Load trajectory 1\n",
    "\n",
    "# Paths to the files, relative to the location of the Jupyter notebook\n",
    "top_path_1=\"Insulin/INS1.pdb\"\n",
    "traj_path_1=\"Insulin/INS1.xtc\"\n",
    "\n",
    "# Loading the pdb file\n",
    "pdb_1 = md.load_pdb(top_path_1)\n",
    "\n",
    "# Loading the trajectory\n",
    "t_1 = md.load(traj_path_1, top = top_path_1)\n",
    "\n",
    "print(t_1)"
   ]
  },
  {
   "cell_type": "code",
   "execution_count": null,
   "metadata": {
    "colab": {
     "base_uri": "https://localhost:8080/"
    },
    "id": "-yZxS7LfGLEn",
    "outputId": "b1d4af29-0258-4d54-ee2a-379a1f868014"
   },
   "outputs": [],
   "source": [
    "# Load trajectory 2\n",
    "\n",
    "# Complete the code\n",
    "top_path_2=\"\"\n",
    "traj_path_2=\"\"\n",
    "\n",
    "pdb_2 = md.load_pdb()\n",
    "t_2 = md.load()\n",
    "\n",
    "print(t_2)"
   ]
  },
  {
   "cell_type": "markdown",
   "metadata": {
    "id": "CxFNgiqsX0Hy"
   },
   "source": [
    "# The (over)abundance of data\n",
    "\n",
    "After running MD simulations, the researcher, in principle, has information about the position of every single particle of a system for every single frame of the simulation. For a regularly-sized system (~100,000 atoms) that was simulated for 1 $\\micro$s, and where frames were saved each ns (1000 frames in total), the product is a 3-dimensional matrix [coordinates, atoms, frames] of size (3, 100000, 1000). This matrix contains 30 million values - which, as you can imagine, is hardly interpretable!\n",
    "\n",
    "This problem of data (over)abundance is not trivial to solve, and the approach differs greatly based on the research question one is trying to answer. For example, if we are focusing on quantifying the conformational changes in a protein, we are probably not going to be interested in water-water interactions ~5 Å away from our protein. Instead, the measures that help us quantify intramolecular motions of the protein are probably going to be much more interesting to us. \n",
    "\n",
    "A common approach is the \"funnel\" method, where one starts with **global** analyses, where the dynamic information of a molecule of interest (i.e., protein) is described within a single measure.\n",
    "\n",
    "- e.g., RMSD, radius of gyration, solvent accessible surface area, ...\n",
    "\n",
    "- **advantage**: manageable to understand\n",
    "\n",
    "- **disadvantage**: often a degenerate variable - meaning that multiple states correspond to the same value\n",
    "\n",
    "After getting a 'hunch' about the behaviour of the molecule of interest, one can continue with more precise, **local** analyses:\n",
    "\n",
    "- e.g., RMSF, secondary structure, measures of specific residue distances/angles/dihedrals..\n",
    "\n",
    "- **advantage**: per-residue or per-atom level of detail that is easier to interpret\n",
    "\n",
    "- **disadvantage**: The calculations often produce multidimensional datasets (>2) that are difficult to plot; in practice, researchers are often required to specify a narrow subset of features of interest\n",
    "\n",
    "    - In order to perform the calculation on a reasonably-sized subset, you already need to know something about your system!"
   ]
  },
  {
   "cell_type": "markdown",
   "metadata": {
    "id": "4auvCEKEXCSm"
   },
   "source": [
    "## Root-mean-square deviation (RMSD) \n",
    "\n",
    "Root-mean-square deviation (RMSD) is a common starting point for any MD simulation analysis. It is a measure of deviation of a structure from the reference structure. It is calculated **for each frame of the simulation** as\n",
    "\n",
    "$$\n",
    "RMSD = \\sqrt{ \\frac{1}{n} \\sum_{i=1}^{n}{(||x_i-x_R||)^2} }\n",
    "$$\n",
    "\n",
    "where $n$ is the number of atoms of a selection, $x_i$ is the position of each atom in a given simulation frame, and $x_R$ is the position of a reference atom. Therefore, the RMSD value reflects the deviation of **all** atoms in the selection. In practice, it is often calculated only for C$\\alpha$ atoms, as backbone displacement is more meaningful than the displacement of sidechains (exceptions apply).\n",
    "\n",
    "### The choice of a reference\n",
    "\n",
    "The choice of a reference should always be reasoned against the research question we want to answer. \n",
    "\n",
    "> Consider the following two research questions. In practice, you probably want to know the answer to both.\n",
    " \n",
    "1) How much is a protein backbone displaced over the simulation trajectory?\n",
    "\n",
    "Note, this question is often asked to assess if the protein has reached its 'equilibrium' conformation in the simulation. In practice, the value often rises very steeply at the beginning and levels off after a while. When it reaches the plateau, the protein conformation is reasonably stable.\n",
    "\n",
    "> In this case, we want to know how much the protein atoms get displaced over a simulation, **as compared to the starting state**. What should the reference be?"
   ]
  },
  {
   "cell_type": "code",
   "execution_count": null,
   "metadata": {
    "id": "M8xnR_KILsTD"
   },
   "outputs": [],
   "source": [
    "# Calculating the rmsd value for the two trajectories\n",
    "\n",
    "rmsd_1 = md.rmsd(t_1, reference = pdb_1)\n",
    "\n",
    "rmsd_2 = md.rmsd(t_2, reference = pdb_2)\n"
   ]
  },
  {
   "cell_type": "code",
   "execution_count": null,
   "metadata": {
    "id": "JojvlDPGOIGi"
   },
   "outputs": [],
   "source": [
    "# Extracting the time points from the trajectory. This will be useful for plotting.\n",
    "\n",
    "t_1.time # In ps\n",
    "time_ns = t_1.time / 1000 # Converting the data to ns\n",
    "print(time_ns)"
   ]
  },
  {
   "cell_type": "code",
   "execution_count": null,
   "metadata": {
    "colab": {
     "base_uri": "https://localhost:8080/",
     "height": 472
    },
    "id": "fzDQEBQEO7z_",
    "outputId": "f1f9239a-6ddb-4da1-a785-3e1d95c1d4b7"
   },
   "outputs": [],
   "source": [
    "# Plotting the RMSD value (in nm) for each simulation time point (in ns).\n",
    "\n",
    "# Feel free to play around with the axis titles, colour choices, and legend labels.\n",
    "\n",
    "fig, ax = plt.subplots()\n",
    "ax.plot(time_ns, rmsd_1, color = \"red\")\n",
    "ax.plot(time_ns, rmsd_2, color = \"green\")\n",
    "ax.set_xlabel(\"Time (ns)\")\n",
    "ax.set_ylabel(\"RMSD (nm)\")\n",
    "ax.set_title(\"RMSD vs. Time\")\n",
    "ax.legend([\"INS1\", \"INS2\"])\n",
    "plt.show()"
   ]
  },
  {
   "cell_type": "markdown",
   "metadata": {},
   "source": [
    "> What does the plot tell us about our simulations? Have they reached an equilibrium? Which simulation is \"more different\" from its starting structure?"
   ]
  },
  {
   "cell_type": "markdown",
   "metadata": {
    "id": "4auvCEKEXCSm"
   },
   "source": [
    "2) Do the states visited in trajectory 1 resemble the states visited in trajectory 2?\n",
    "\n",
    "> In this case, we want to compare the two simulations. What should we use as a reference?"
   ]
  },
  {
   "cell_type": "code",
   "execution_count": null,
   "metadata": {},
   "outputs": [],
   "source": [
    "# Insert here a piece of code that will calculate the RMSD value with a reference of your choice. \n",
    "\n",
    "rmsd_1 = md.rmsd()\n",
    "rmsd_2 = md.rmsd()"
   ]
  },
  {
   "cell_type": "code",
   "execution_count": null,
   "metadata": {},
   "outputs": [],
   "source": [
    "# Plot it \n",
    "fig, ax = plt.subplots()\n",
    "ax.plot(time_ns, rmsd_1, color = \"red\")\n",
    "ax.plot(time_ns, rmsd_2, color = \"green\")\n",
    "ax.set_xlabel(\"Time (ns)\")\n",
    "ax.set_ylabel(\"RMSD (nm)\")\n",
    "ax.set_title(\"Insert informative title here\")\n",
    "ax.legend([\"INS1\", \"INS2\"])\n",
    "plt.show()"
   ]
  },
  {
   "cell_type": "markdown",
   "metadata": {},
   "source": [
    "## Root-mean-square fluctuation (RMSF)\n",
    "\n",
    "Root-mean-square fluctuation (RMSF) is a measure of fluctuation of each individual residue (defined by all its atoms, subset of atoms, or C$\\alpha$) over a simulation. \n",
    "\n",
    "It is calculated by the following expression,\n",
    "$$\n",
    "RMSF_{i} = \\sqrt { \\frac{1}{T} \\sum_{t=1}^{T} (x_{i} - \\overline{x}_{i})^2} \n",
    "$$\n",
    "\n",
    "where $T$ is the number of simulation frames, $x_i$ is the position of the particle $i$, and $\\overline{x}_{i}$ is the average position of the same particle.\n",
    "\n",
    "RMSF has a deceptively similar name and expression to RMSD, but the two produce very different results. While RMSD is a time-series measure, RMSF is a value that includes the time component in its calculation, making it time-independent. Instead, RMSF measures the fluctuations on a per-particle (in practice, per-residue) basis, which is not the case for RMSD.\n",
    "\n",
    "Notice as well that RMSF is calculated by using the **average** position of each residue, rather than the reference position. However, the function still requires the reference -- this is because the structures across frames need to be aligned before proceeding with the calculation.\n",
    "\n",
    "In practice, RMSF is a measure of flexibility, and low RMSF values indicate rigid parts of the structure, while high RMSF values indicate flexible parts of the structure."
   ]
  },
  {
   "cell_type": "code",
   "execution_count": null,
   "metadata": {
    "id": "tPmVVVtlQugp"
   },
   "outputs": [],
   "source": [
    "rmsf_1 = md.rmsf(t_1, reference = pdb_1)\n",
    "rmsf_2 = md.rmsf(t_2, reference = pdb_2)\n"
   ]
  },
  {
   "cell_type": "code",
   "execution_count": null,
   "metadata": {
    "colab": {
     "base_uri": "https://localhost:8080/"
    },
    "id": "KuMVUqJXPTv4",
    "outputId": "9aacdd17-b414-4db8-a1d8-ec11c062d75e"
   },
   "outputs": [],
   "source": [
    "# Creating a list with the numbered residues. This will be useful for plotting.\n",
    "\n",
    "resid_index = list(range(1,pdb_1.topology.n_residues+1)) \n",
    "print(resid_index)"
   ]
  },
  {
   "cell_type": "code",
   "execution_count": null,
   "metadata": {
    "colab": {
     "base_uri": "https://localhost:8080/",
     "height": 472
    },
    "id": "6Mtj-viBQ2-Z",
    "outputId": "2b903c11-705e-4cd2-b0b4-49988d1cf1be"
   },
   "outputs": [],
   "source": [
    "fig, ax = plt.subplots()\n",
    "ax.plot(resid_index, rmsf_1, color = \"red\")\n",
    "ax.scatter(resid_index, rmsf_1, color = \"red\", label = '_nolegend_')\n",
    "ax.plot(resid_index, rmsf_2, color = \"green\")\n",
    "ax.scatter(resid_index, rmsf_2, color = \"green\", label = '_nolegend_')\n",
    "ax.set_xlabel(\"Residue number\")\n",
    "ax.set_ylabel(\"RMSF (nm)\")\n",
    "ax.set_title(\"RMSF vs. Residue number\")\n",
    "ax.legend([\"INS1\", \"INS2\"])\n",
    "ax.grid()\n"
   ]
  },
  {
   "cell_type": "markdown",
   "metadata": {},
   "source": [
    "> What can RMSF measure tell us about the secondary structure of the protein?"
   ]
  },
  {
   "cell_type": "markdown",
   "metadata": {},
   "source": [
    "## Distance measurements\n",
    "\n",
    "Now that we have (some) information about the motions of insulin, we might want to quantify the conformational change using an easy-to-understand measure (e.g., a distance, an angle, a dihedral). \n",
    "\n",
    "Calculating all distances for all frames between all atoms in insulin is possible, but not practical - this calculation will generate a matrix of size (100, 786, 786) hosting 61779600 data points. Instead, we need to narrow the calculation to only a couple of distances between the atom pairs, which will help us quantify the conformational change. \n",
    "\n",
    "> Look again at the simulations. What would be promising atom pairs to choose? "
   ]
  },
  {
   "cell_type": "markdown",
   "metadata": {},
   "source": [
    "### Atom selection\n",
    "\n",
    "> First you need to choose your atoms of interest. You should select only TWO atoms per group. Try out multiple selections and see if you get only two atoms as an output.  "
   ]
  },
  {
   "cell_type": "code",
   "execution_count": null,
   "metadata": {
    "colab": {
     "base_uri": "https://localhost:8080/"
    },
    "id": "-HGlnRFpZK2z",
    "outputId": "b6c3a486-4984-4495-9329-69e3bc2611d3"
   },
   "outputs": [],
   "source": [
    "distance_pairs = [pdb_1.topology.select(\"(resid 1 and name N) or (resid 2 and name CA\")] # A nonsensical selection, you should change it!\n",
    "print(distance_pairs_1)"
   ]
  },
  {
   "cell_type": "code",
   "execution_count": null,
   "metadata": {
    "colab": {
     "base_uri": "https://localhost:8080/"
    },
    "id": "-HGlnRFpZK2z",
    "outputId": "b6c3a486-4984-4495-9329-69e3bc2611d3"
   },
   "outputs": [],
   "source": [
    "# Calculating the distance for each simulation trajectory\n",
    "\n",
    "dist_1 = md.compute_distances(t_1, distance_pairs)\n",
    "dist_2 = md.compute_distances(t_2, distance_pairs)"
   ]
  },
  {
   "cell_type": "code",
   "execution_count": null,
   "metadata": {
    "colab": {
     "base_uri": "https://localhost:8080/",
     "height": 472
    },
    "id": "ffK6gXpQlYJ0",
    "outputId": "005ece09-50b1-47f6-d549-43bf5ba5ec73"
   },
   "outputs": [],
   "source": [
    "\n",
    "fig, ax = plt.subplots()\n",
    "ax.plot(time_ns, dist_1, color = \"red\")\n",
    "ax.plot(time_ns, dist_2, color = \"green\")\n",
    "ax.set_xlabel(\"Time (ns)\")\n",
    "ax.set_ylabel(\"Distance (nm)\") # Specify what atoms were used for calculating the distance\n",
    "ax.set_title(\"Distance vs time\")\n",
    "ax.legend([\"INS1\", \"INS2\"])\n",
    "ax.grid()\n"
   ]
  }
 ],
 "metadata": {
  "colab": {
   "provenance": []
  },
  "kernelspec": {
   "display_name": "Python 3 (ipykernel)",
   "language": "python",
   "name": "python3"
  },
  "language_info": {
   "codemirror_mode": {
    "name": "ipython",
    "version": 3
   },
   "file_extension": ".py",
   "mimetype": "text/x-python",
   "name": "python",
   "nbconvert_exporter": "python",
   "pygments_lexer": "ipython3",
   "version": "3.12.12"
  }
 },
 "nbformat": 4,
 "nbformat_minor": 4
}
